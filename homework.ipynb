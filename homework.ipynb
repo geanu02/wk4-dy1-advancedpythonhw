{
 "cells": [
  {
   "cell_type": "markdown",
   "id": "a37760db",
   "metadata": {},
   "source": [
    "### Homework - Time Complexity\n",
    "\n",
    "Asymptotic Analysis\n",
    "\n",
    "Please complete 3 codewars problems. I suggest at least 1 be 6kyu or lower. In\n",
    "separate python files or notebook cells, examine the Time and space\n",
    "complexity of each answer."
   ]
  },
  {
   "cell_type": "markdown",
   "id": "8df2125c",
   "metadata": {},
   "source": [
    "# \"Find the Unique Number\" 6 kyu\n",
    "\n",
    "There is an array with some numbers. All numbers are equal except for one. Try to find it!\n",
    "\n",
    "`find_uniq([ 1, 1, 1, 2, 1, 1 ]) == 2`\n",
    "\n",
    "`find_uniq([ 0, 0, 0.55, 0, 0 ]) == 0.55`\n",
    "\n",
    "https://www.codewars.com/kata/585d7d5adb20cf33cb000235"
   ]
  },
  {
   "cell_type": "code",
   "execution_count": null,
   "id": "c8cc71fe",
   "metadata": {},
   "outputs": [],
   "source": [
    "def find_uniq(arr):\n",
    "    for i, n in enumerate(arr[2:],start=2):\n",
    "        if n == arr[i-1] and n == arr[i-2]:\n",
    "            continue\n",
    "        elif n != arr[i-1]:\n",
    "            if n == arr[i-2]:\n",
    "                return arr[i-1]\n",
    "            elif arr[i-1] == arr[-2]:\n",
    "                return n\n",
    "        elif n != arr[i-2]:\n",
    "            if n == arr[i-1]:\n",
    "                return arr[i-2]\n",
    "            else:\n",
    "                return n\n",
    "        else:\n",
    "            if n == arr[i+1]:\n",
    "                return arr[i-1]\n",
    "            else:\n",
    "                return n"
   ]
  },
  {
   "cell_type": "markdown",
   "id": "c2d1d730",
   "metadata": {},
   "source": [
    "# \"Your order, please\" 6 kyu\n",
    "\n",
    "Your task is to sort a given string. Each word in the string will contain a single number. This number is the position the word should have in the result.\n",
    "\n",
    "Note: Numbers can be from 1 to 9. So 1 will be the first word (not 0).\n",
    "\n",
    "If the input string is empty, return an empty string. The words in the input String will only contain valid consecutive numbers.\n",
    "\n",
    "Examples\n",
    "\n",
    "`\"is2 Thi1s T4est 3a\"`  -->  `\"Thi1s is2 3a T4est\"`\n",
    "\n",
    "`\"4of Fo1r pe6ople g3ood th5e the2\"`  -->  `\"Fo1r the2 g3ood 4of th5e pe6ople\"`\n",
    "\n",
    "https://www.codewars.com/kata/55c45be3b2079eccff00010f"
   ]
  },
  {
   "cell_type": "code",
   "execution_count": null,
   "id": "acf755f0",
   "metadata": {},
   "outputs": [],
   "source": [
    "def order(sentence):\n",
    "    new_dict = {}\n",
    "    result = []\n",
    "    if sentence:\n",
    "        for word in sentence.split():\n",
    "            for char in word:\n",
    "                if char.isdigit():\n",
    "                    new_dict[char] = word\n",
    "        for key, value in sorted(new_dict.items()):\n",
    "            result.append(value)\n",
    "        return \" \".join(result)\n",
    "    return \"\""
   ]
  },
  {
   "cell_type": "markdown",
   "id": "ea4b423f",
   "metadata": {},
   "source": [
    "# \"Find Cracker\" 6 kyu\n",
    "\n",
    "Someone was hacking the score. Each student's record is given as an array The objects in the array are given again as an array of scores for each name and total score. ex>\n",
    "\n",
    "`array = [\n",
    "[\"name1\", 445, [\"B\", \"A\", \"A\", \"C\", \"A\", \"A\"]],\n",
    "[\"name2\", 110, [\"B\", \"A\", \"A\", \"A\"]],\n",
    "[\"name3\", 200, [\"B\", \"A\", \"A\", \"C\"]],\n",
    "[\"name4\", 200, [\"A\", \"A\", \"A\", \"A\", \"A\", \"A\", \"A\"]]\n",
    "]`\n",
    "\n",
    "The scores for each grade is:\n",
    "\n",
    "A: 30 points\n",
    "B: 20 points\n",
    "C: 10 points\n",
    "D: 5 points\n",
    "Everything else: 0 points\n",
    "If there are 5 or more courses and all courses has a grade of B or above, additional 20 points are awarded. After all the calculations, the total score should be capped at 200 points.\n",
    "\n",
    "Returns the name of the hacked name as an array when scoring with this rule.\n",
    "\n",
    "`array = [\n",
    "[\"name1\", 445, [\"B\", \"A\", \"A\", \"C\", \"A\", \"A\"]], # name1 total point is over 200 => hacked\n",
    "[\"name2\", 110, [\"B\", \"A\", \"A\", \"A\"]], #  name2 point is right\n",
    "[\"name3\", 200, [\"B\", \"A\", \"A\", \"C\"]] # name3 point is 200 but real point is 90 => hacked\n",
    "[\"name4\", 200, [\"A\", \"A\", \"A\", \"A\", \"A\", \"A\", \"A\"]] # name4 point is right\n",
    "];\n",
    "return [\"name1\", \"name3\"]`\n",
    "\n",
    "https://www.codewars.com/kata/59f70440bee845599c000085"
   ]
  },
  {
   "cell_type": "code",
   "execution_count": null,
   "id": "34809797",
   "metadata": {},
   "outputs": [],
   "source": [
    "def find_hack(arr):\n",
    "    return_arr = []\n",
    "    for student in arr:\n",
    "        if student[1] > 200:\n",
    "            return_arr.append(student[0])\n",
    "        else:\n",
    "            grades = student[2]\n",
    "            total_grade = 0\n",
    "            bonus = 0\n",
    "            qualified_bonus = True\n",
    "            for grade in grades:\n",
    "                if grade == 'A':\n",
    "                    total_grade += 30\n",
    "                    bonus += 1\n",
    "                elif grade == 'B':\n",
    "                    total_grade += 20\n",
    "                    bonus += 1\n",
    "                elif grade == 'C':\n",
    "                    total_grade += 10\n",
    "                    qualified_bonus = False\n",
    "                elif grade == 'D':\n",
    "                    total_grade += 5\n",
    "                    qualified_bonus = False\n",
    "                else:\n",
    "                    total_grade += 0\n",
    "                    qualified_bonus = False\n",
    "            print(\"Total Grade:\", total_grade, \"Bonus:\", str(bonus))\n",
    "            if bonus >= 5 and qualified_bonus:\n",
    "                total_grade += 20\n",
    "            if total_grade > 200:\n",
    "                total_grade = 200\n",
    "            print(\"Total Grade:\", total_grade, \"Bonus:\", str(bonus))\n",
    "            if total_grade != student[1]:\n",
    "                return_arr.append(student[0])\n",
    "    return return_arr"
   ]
  },
  {
   "cell_type": "markdown",
   "id": "a3908eb4",
   "metadata": {},
   "source": [
    "# \"Simple Pig Latin\" 5 kyu\n",
    "\n",
    "Move the first letter of each word to the end of it, then add \"ay\" to the end of the word. Leave punctuation marks untouched.\n",
    "\n",
    "Examples:\n",
    "\n",
    "`pig_it('Pig latin is cool')` => `igPay atinlay siay oolcay`\n",
    "\n",
    "`pig_it('Hello world !')` => `# elloHay orldway !`\n",
    "\n",
    "https://www.codewars.com/kata/520b9d2ad5c005041100000f"
   ]
  },
  {
   "cell_type": "code",
   "execution_count": null,
   "id": "c307f1c6",
   "metadata": {},
   "outputs": [],
   "source": [
    "def pig_it(text):\n",
    "    text_split = text.split()\n",
    "    my_string = \"\"\n",
    "    for i in text_split:\n",
    "        if i.isalpha():\n",
    "            my_string += i[1:] + i[0] + 'ay '\n",
    "        else:\n",
    "            my_string += i\n",
    "    return my_string.rstrip()"
   ]
  }
 ],
 "metadata": {
  "kernelspec": {
   "display_name": "Python 3 (ipykernel)",
   "language": "python",
   "name": "python3"
  },
  "language_info": {
   "codemirror_mode": {
    "name": "ipython",
    "version": 3
   },
   "file_extension": ".py",
   "mimetype": "text/x-python",
   "name": "python",
   "nbconvert_exporter": "python",
   "pygments_lexer": "ipython3",
   "version": "3.9.13"
  }
 },
 "nbformat": 4,
 "nbformat_minor": 5
}
