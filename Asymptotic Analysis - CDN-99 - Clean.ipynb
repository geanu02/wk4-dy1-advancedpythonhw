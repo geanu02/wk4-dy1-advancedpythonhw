{
 "cells": [
  {
   "cell_type": "markdown",
   "metadata": {},
   "source": [
    "# Asymptotic Analysis & Data Structures\n",
    "\n",
    "### Topics to discuss today:\n",
    "\n",
    "<ul>\n",
    "    <li>What is Asymptotic Analysis?</li>\n",
    "    <li>Classifying time complexities</li>\n",
    "    <li>Classifying space complexities</li>\n",
    "    <li>Implementing a LinkedList</li>\n",
    "</ul>"
   ]
  },
  {
   "cell_type": "markdown",
   "metadata": {},
   "source": [
    "### What is Asymptotic Analysis?\n",
    "\n",
    "Asymptotic analysis refers to setting mathematical bounds of an algorithms run-time performance. Asymptotic analysis is used for estimating time and space complexity.\n",
    "\n",
    "There are three metrics we measure:\n",
    "<ul>\n",
    "<li><b>Best Case</b> − Minimum time required for running.</li>\n",
    "<li><b>Average Case</b> − Average time required for running.</li>\n",
    "<li><b>Worst Case</b> − Maximum time required for running.</li>\n",
    "</ul>\n",
    "\n",
    "Here are the two major asymptotic notations that we'll be focusing on today:\n",
    "<ul>\n",
    "<li>Ο Notation (Big O Notation)</li>\n",
    "<li>Ω Notation (Omega Notation)</li>\n",
    "</ul>\n",
    "\n",
    "#### Big O Notation\n",
    "Big O notation expresses the <b>upper bound</b> of an algorithm's execution time. This measures the <b>worst case</b> time complexity.\n",
    "\n",
    "#### Omega Notation\n",
    "Omega notation expresses the <b>lower bound</b> of an algorithm's execution time. This measures the <b>best case</b> time complexity."
   ]
  },
  {
   "cell_type": "markdown",
   "metadata": {},
   "source": [
    "\n",
    "\n",
    "<table style=\"text-align:left;\" class=\"table table-bordered\">\n",
    "    <thead>\n",
    "        <tr>\n",
    "            <th>Name</th>\n",
    "            <th>Time Complexity</th>\n",
    "        </tr>\n",
    "    </thead>\n",
    "\n",
    "  <tr>\n",
    "<td>constant</td>\n",
    "<td>Ο(1)</td>\n",
    "</tr>\n",
    "<tr>\n",
    "<td>logarithmic</td>\n",
    "<td>Ο(log n)</td>\n",
    "</tr>\n",
    "<tr>\n",
    "<td>linear</td>\n",
    "<td>Ο(n)</td>\n",
    "</tr>\n",
    "<tr>\n",
    "<td>n log n</td>\n",
    "<td>Ο(n log n)</td>\n",
    "</tr>\n",
    "<tr>\n",
    "<td>quadratic</td>\n",
    "<td>Ο(n<sup>2</sup>)</td>\n",
    "</tr>\n",
    "<tr>\n",
    "<td>cubic</td>\n",
    "<td>Ο(n<sup>3</sup>)</td>\n",
    "</tr>\n",
    "<tr>\n",
    "<td>polynomial</td>\n",
    "<td>n<sup>Ο(1)</sup></td>\n",
    "</tr>\n",
    "<tr>\n",
    "<td>exponential</td>\n",
    "<td>2<sup>Ο(n)</sup></td>\n",
    "</tr>\n",
    "</table>\n",
    "\n",
    "Extra resources:\n",
    "https://www.youtube.com/watch?v=0oDAlMwTrLo"
   ]
  },
  {
   "cell_type": "markdown",
   "metadata": {},
   "source": [
    "##### O(1) Example\n",
    "No matter the size of the input data, the execution time will always be the same"
   ]
  },
  {
   "cell_type": "code",
   "execution_count": null,
   "metadata": {},
   "outputs": [],
   "source": [
    "def compare_numbers(num1, num2):\n",
    "    if num1 > num2: #O(1)\n",
    "        return num1\n",
    "    elif num1 == num2: #O(1)\n",
    "        return None\n",
    "    else:\n",
    "        return num2"
   ]
  },
  {
   "cell_type": "code",
   "execution_count": null,
   "metadata": {
    "scrolled": true
   },
   "outputs": [],
   "source": [
    "%timeit compare_numbers(5,6)"
   ]
  },
  {
   "cell_type": "code",
   "execution_count": null,
   "metadata": {},
   "outputs": [],
   "source": [
    "%timeit compare_numbers(50000, 60000)"
   ]
  },
  {
   "cell_type": "code",
   "execution_count": null,
   "metadata": {},
   "outputs": [],
   "source": [
    "def return_last_number(alist):\n",
    "    return alist[-1]"
   ]
  },
  {
   "cell_type": "code",
   "execution_count": null,
   "metadata": {},
   "outputs": [],
   "source": [
    "%timeit return_last_number([1,2])"
   ]
  },
  {
   "cell_type": "code",
   "execution_count": null,
   "metadata": {},
   "outputs": [],
   "source": [
    "%timeit return_last_number(my_list)"
   ]
  },
  {
   "cell_type": "code",
   "execution_count": null,
   "metadata": {},
   "outputs": [],
   "source": [
    "def return_at_index(iterable, idx):\n",
    "    element_at_index = iterable[ind]\n",
    "    return element_at_index"
   ]
  },
  {
   "cell_type": "markdown",
   "metadata": {},
   "source": [
    "##### O(n) Example\n",
    "The execution time increases linearly with the length of the input. For each growth in size of the input, the time it takes to run increases by the same amount."
   ]
  },
  {
   "cell_type": "code",
   "execution_count": null,
   "metadata": {
    "scrolled": true
   },
   "outputs": [],
   "source": [
    "def print_elements(alist):\n",
    "    #print(\"We are printing every element\") #O(1)\n",
    "    for e in alist: #O(N)\n",
    "        pass\n",
    "        \n",
    "# Time Complexity: O(N + 1) => O(N) = Linear\n",
    "\n",
    "print_elements('abcdefghijklmnop')"
   ]
  },
  {
   "cell_type": "code",
   "execution_count": null,
   "metadata": {},
   "outputs": [],
   "source": [
    "%timeit print_elements('abcdefghijklmnop')"
   ]
  },
  {
   "cell_type": "code",
   "execution_count": null,
   "metadata": {},
   "outputs": [],
   "source": [
    "def print_elements(alist):\n",
    "    step = 0\n",
    "    for e in alist: #O(N)\n",
    "        step += 1\n",
    "    return step\n",
    "        \n",
    "# Time Complexity: O(N + 1) => O(N) = Linear\n",
    "\n",
    "print_elements('abcdefghijklmnopabcdefghijklmnop')"
   ]
  },
  {
   "cell_type": "code",
   "execution_count": null,
   "metadata": {
    "scrolled": true
   },
   "outputs": [],
   "source": [
    "%timeit print_elements('abcdefghijklmnopabcdefghijklmnop')"
   ]
  },
  {
   "cell_type": "code",
   "execution_count": null,
   "metadata": {},
   "outputs": [],
   "source": [
    "def add_all_numbers(alist):\n",
    "    count = 0 #O(1)\n",
    "    steps = 0 #O(1)\n",
    "    for num in alist: #O(N)\n",
    "        count += num #O(1)\n",
    "        steps += 1 #O(1)\n",
    "    return f\"{count = } {steps = }\"\n",
    "\n",
    "# Time Complexity O(N + 4) => O(N) = Linear\n",
    "\n",
    "add_all_numbers([1, 2, 3, 4, 1, 2, 3, 4])"
   ]
  },
  {
   "cell_type": "code",
   "execution_count": null,
   "metadata": {},
   "outputs": [],
   "source": [
    "def sum_with_built_in(alist):\n",
    "    return sum(alist) #O(N)    "
   ]
  },
  {
   "cell_type": "code",
   "execution_count": null,
   "metadata": {},
   "outputs": [],
   "source": [
    "# LINEAR METHODS\n",
    "# .count()\n",
    "# .index()\n",
    "# .pop()\n",
    "# .insert()\n",
    "\n",
    "# LINEAR STRING METHODS\n",
    "# \n",
    "\n"
   ]
  },
  {
   "cell_type": "code",
   "execution_count": null,
   "metadata": {},
   "outputs": [],
   "source": [
    "def pop_last_element(alist):\n",
    "    return alist.pop() #O(1)\n",
    "\n",
    "def pop_given_element(alist, ind):\n",
    "    return alist.pop(ind) #O(N)\n",
    "\n",
    "[2, 3, 4, 5, 6, 7].pop(0)"
   ]
  },
  {
   "cell_type": "code",
   "execution_count": null,
   "metadata": {},
   "outputs": [],
   "source": [
    "def check_vowel(astring):\n",
    "    vowels = 'aeiou' # O(1)\n",
    "    for letter in vowels: # O(1 * 5)\n",
    "        if letter == astring[0].lower(): # O(1 + 1)\n",
    "            return True\n",
    "    return False\n",
    "\n",
    "# Time Complexity: O(1 + 5 + 1 + 1) => O(1) = Constant"
   ]
  },
  {
   "cell_type": "code",
   "execution_count": null,
   "metadata": {},
   "outputs": [],
   "source": [
    "# Linear Membership checks => list, tuple, string\n",
    "\n",
    "print('a' in 'abcdefg') # Best case of O(1)\n",
    "print('b' in 'abcdefg') # Worst case O(N)"
   ]
  },
  {
   "cell_type": "code",
   "execution_count": null,
   "metadata": {},
   "outputs": [],
   "source": [
    "# Membership check on dictionary or set is constant\n",
    "\n",
    "print('z' in {'b', 'c', 'd', 'a'}) # O(1)"
   ]
  },
  {
   "cell_type": "markdown",
   "metadata": {},
   "source": [
    "##### O(log(n))\n",
    "A logarithmic time complexity increases linearly as the input increases exponentially. Usually this occurs when we decrease the size of our input as we move through our algorithm. It is O(log(n)) when we do divide and conquer type of algorithms like binary search. \n",
    "\n",
    "Additional Explanations:\n",
    "https://www.youtube.com/watch?v=wjDY5RbILno\n"
   ]
  },
  {
   "cell_type": "code",
   "execution_count": null,
   "metadata": {},
   "outputs": [],
   "source": [
    "def example_log_n(num):\n",
    "    count, step = 1, 0\n",
    "    while num > count:\n",
    "        count *= 2\n",
    "        step += 1\n",
    "    return step\n",
    "\n",
    "example_log_n(1000000)"
   ]
  },
  {
   "cell_type": "code",
   "execution_count": null,
   "metadata": {},
   "outputs": [],
   "source": [
    "def binary_search(alist, target):\n",
    "    left, right = 0, len(alist)-1"
   ]
  },
  {
   "cell_type": "markdown",
   "metadata": {},
   "source": [
    "###### O(n^2) Example\n",
    "When an algorithm needs to perform a linear time operation for each value in the input data"
   ]
  },
  {
   "cell_type": "code",
   "execution_count": null,
   "metadata": {},
   "outputs": [],
   "source": [
    "# Multiple Linear Operations neither are nested => Linear"
   ]
  },
  {
   "cell_type": "code",
   "execution_count": null,
   "metadata": {},
   "outputs": [],
   "source": [
    "def example_linear(alist):\n",
    "    example_list = [] # O(1)\n",
    "    for e in alist: # O(N)\n",
    "        example_list.append(e) # O(1)\n",
    "    for e in example_list: # O(1)\n",
    "        pass\n",
    "\n",
    "# Time Complexity O(2N) => O(N) = Linear"
   ]
  },
  {
   "cell_type": "code",
   "execution_count": null,
   "metadata": {},
   "outputs": [],
   "source": [
    "def print_quad_elements(alist):\n",
    "    step = 0 # O(1)\n",
    "    for num in alist: # O(N)\n",
    "        for num2 in alist: # O(N)\n",
    "            step += 1 # O(1)\n",
    "            pass\n",
    "    return step\n",
    "\n",
    "# Time Complexity O(N*N + 2N) = O(N^2) = Quadratic"
   ]
  },
  {
   "cell_type": "code",
   "execution_count": null,
   "metadata": {},
   "outputs": [],
   "source": [
    "input_list = [1,3,1,3,4,7,7,7]\n",
    "output = {1:2, 3:2, 4:1, 7:3}\n",
    "\n",
    "def create_hash_map(alist):\n",
    "    hash_map = {} # O(1) Constant\n",
    "    for e in alist: # O(N) Linear\n",
    "        hash_map[e] = alist.count(e) # O(N) Linear .count()\n",
    "    return hash_map # O(1) Constant\n",
    "\n",
    "# Time Complexity O(N * N + 1 + 1) => O(N^2) = Quadratic\n",
    "create_hash_map(input_list)"
   ]
  },
  {
   "cell_type": "code",
   "execution_count": null,
   "metadata": {},
   "outputs": [],
   "source": [
    "def create_hash_map_linear(alist):\n",
    "    hash_map = {}\n",
    "    for e in alist:\n",
    "        hash_map[e] = hash_map.get(e, 0) + 1\n",
    "    return hash_map\n",
    "\n",
    "create_hash_map_linear(input_list)"
   ]
  },
  {
   "cell_type": "code",
   "execution_count": null,
   "metadata": {},
   "outputs": [],
   "source": [
    "%timeit create_hash_map(list(range(10000)))"
   ]
  },
  {
   "cell_type": "code",
   "execution_count": null,
   "metadata": {
    "scrolled": false
   },
   "outputs": [],
   "source": [
    "%timeit create_hash_map_linear(list(range(10000)))"
   ]
  },
  {
   "cell_type": "code",
   "execution_count": null,
   "metadata": {},
   "outputs": [],
   "source": [
    "def loop_matrix(matrix):\n",
    "    for l in matrix: # O(N length of matrix)\n",
    "        for elem in l: # O(M length of l)\n",
    "            print(e) # O(1)\n",
    "            \n",
    "# Time Complexity: O(N * M + 1) => O(N*M) = Quadratic"
   ]
  },
  {
   "cell_type": "code",
   "execution_count": 1,
   "metadata": {},
   "outputs": [
    {
     "data": {
      "text/plain": [
       "'target = 7 found at position 7 steps = 1'"
      ]
     },
     "execution_count": 1,
     "metadata": {},
     "output_type": "execute_result"
    }
   ],
   "source": [
    "def binary_search(alist, target):\n",
    "    left, right = 0, len(alist) - 1\n",
    "    steps = 0\n",
    "    while True:\n",
    "        mid = (left + right) // 2\n",
    "        if alist[mid] == target:\n",
    "            return f'{target = } found at position {mid} {steps = }'\n",
    "        elif target > alist[mid]:\n",
    "            left = mid + 1\n",
    "        else:\n",
    "            right = mid - 1\n",
    "        steps += 1      \n",
    "binary_search(list(range(10)),7)"
   ]
  },
  {
   "cell_type": "code",
   "execution_count": null,
   "metadata": {},
   "outputs": [],
   "source": [
    "binary_search\n",
    "for i in range(100)"
   ]
  },
  {
   "cell_type": "code",
   "execution_count": 5,
   "metadata": {},
   "outputs": [
    {
     "data": {
      "text/plain": [
       "'target = 80000 found at position guess = 80000 steps = 80000'"
      ]
     },
     "execution_count": 5,
     "metadata": {},
     "output_type": "execute_result"
    }
   ],
   "source": [
    "def linear_search(alist, target):\n",
    "    guess = 1\n",
    "    steps = 1\n",
    "    while True:\n",
    "        if alist[guess] == target:\n",
    "            return f\"{target = } found at position {guess = } {steps = }\"\n",
    "        guess += 1\n",
    "        steps += 1\n",
    "\n",
    "linear_search(list(range(1000000)), 80000)"
   ]
  },
  {
   "cell_type": "markdown",
   "metadata": {},
   "source": [
    "### In-Class Exercise\n",
    "In a comment in the following three cells, classify each algorithm into one of the time complexities discussed above."
   ]
  },
  {
   "cell_type": "code",
   "execution_count": null,
   "metadata": {},
   "outputs": [],
   "source": [
    "def two_sum_loops(nums, target):\n",
    "    for i, num in enumerate(nums):\n",
    "        for j, num2 in enumerate(nums[i + 1:]):\n",
    "            if target - num == num2:\n",
    "                return [i,j+i+1]"
   ]
  },
  {
   "cell_type": "code",
   "execution_count": null,
   "metadata": {},
   "outputs": [],
   "source": [
    "def two_sum(nums, target):\n",
    "    d={}\n",
    "    for i, num in enumerate(nums):\n",
    "        if target - num in d:\n",
    "            return [d[target-num],i]\n",
    "        d[num]=i\n",
    "    return -1"
   ]
  },
  {
   "cell_type": "code",
   "execution_count": null,
   "metadata": {},
   "outputs": [],
   "source": [
    "def check_if_num_in_list(a_list, value):\n",
    "    return value in a_list"
   ]
  },
  {
   "cell_type": "markdown",
   "metadata": {},
   "source": [
    "## Space Complexity\n",
    "Space complexity refers to the total amount of memory space that is consumed by an algorithm. This value includes both any new values created as well as well as input values\n",
    "\n",
    "We'll use Big O notation for space complexity as well. In this case, Big O gives the worst-case of an algorithm’s growth rate. \n",
    "\n",
    "\"The space this algorithm takes will grow no more quickly than this, but it could grow more slowly.\""
   ]
  },
  {
   "cell_type": "markdown",
   "metadata": {},
   "source": [
    "###### O(1) Example"
   ]
  },
  {
   "cell_type": "code",
   "execution_count": null,
   "metadata": {},
   "outputs": [],
   "source": [
    "# O(1) + O(1) => O(1+1) => O(1)\n",
    "\n",
    "def add_nums(num1, num2):\n",
    "    return num1 + num2\n",
    "\n",
    "def add_nums(num1, num2):\n",
    "    # O(1) Auxillary\n",
    "    num_sum = num1 + num2\n",
    "    return num1 + num2"
   ]
  },
  {
   "cell_type": "markdown",
   "metadata": {},
   "source": [
    "###### O(n) Example\n",
    "Input Space: O(n) <- This comes from aList in the input\n",
    "Auxiliary Space: O(1) <- The only variables created in the function are integers\n",
    "\n",
    "Total Space: O(n + 1) or O(n)"
   ]
  },
  {
   "cell_type": "code",
   "execution_count": 6,
   "metadata": {},
   "outputs": [
    {
     "data": {
      "text/plain": [
       "[0, 1, 2, 3, 4, 5, 6, 7, 8, 9]"
      ]
     },
     "execution_count": 6,
     "metadata": {},
     "output_type": "execute_result"
    }
   ],
   "source": [
    "def range_list(num):\n",
    "    output_list = [] #O(1)\n",
    "    for num in range(num):\n",
    "        output_list.append(num) #O(N)\n",
    "    return output_list\n",
    "\n",
    "range_list(10)"
   ]
  },
  {
   "cell_type": "code",
   "execution_count": null,
   "metadata": {},
   "outputs": [],
   "source": [
    "def print_nums(alist):\n",
    "    for num in alist:\n",
    "        print(num)"
   ]
  },
  {
   "cell_type": "markdown",
   "metadata": {},
   "source": [
    "The recursive calls generate new function calls in the stack. Each call on the stack stores a separate copy of the variables defined in the function. The array is passed by reference so a separate copy of the array is not created for each function call. As we can have O(log(n)) calls to the function, the space complexity of the recursive version should include the O(log(n)) auxiliary space. Hence, the overall space complexity is:\n",
    "\n",
    "Input space: O(n)\n",
    "Auxiliary space: O(log n)\n",
    "\n",
    "Total Space: O(n + log n) OR O(n)"
   ]
  },
  {
   "cell_type": "code",
   "execution_count": null,
   "metadata": {},
   "outputs": [],
   "source": [
    "def binary_search_recursive(alist, target):\n",
    "    middle = len(alist) - 1 // 2\n",
    "    if alist[middle] == target:\n",
    "        return f\"{target = } found at position {middle}\"\n",
    "    if target > current_number:\n",
    "        \n",
    "    return binary_search_recursive"
   ]
  },
  {
   "cell_type": "code",
   "execution_count": null,
   "metadata": {},
   "outputs": [],
   "source": []
  }
 ],
 "metadata": {
  "kernelspec": {
   "display_name": "Python 3 (ipykernel)",
   "language": "python",
   "name": "python3"
  },
  "language_info": {
   "codemirror_mode": {
    "name": "ipython",
    "version": 3
   },
   "file_extension": ".py",
   "mimetype": "text/x-python",
   "name": "python",
   "nbconvert_exporter": "python",
   "pygments_lexer": "ipython3",
   "version": "3.9.13"
  }
 },
 "nbformat": 4,
 "nbformat_minor": 2
}
