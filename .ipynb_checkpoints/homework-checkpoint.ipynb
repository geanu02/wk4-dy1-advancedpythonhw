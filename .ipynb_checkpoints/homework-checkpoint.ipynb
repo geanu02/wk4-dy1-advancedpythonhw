{
 "cells": [
  {
   "cell_type": "markdown",
   "id": "a8af73f5",
   "metadata": {},
   "source": [
    "Homework"
   ]
  },
  {
   "cell_type": "markdown",
   "id": "4263ea8c",
   "metadata": {},
   "source": [
    "# \"Find the Unique Number\" 6 kyu\n",
    "\n",
    "There is an array with some numbers. All numbers are equal except for one. Try to find it!\n",
    "\n",
    "`find_uniq([ 1, 1, 1, 2, 1, 1 ]) == 2`\n",
    "\n",
    "`find_uniq([ 0, 0, 0.55, 0, 0 ]) == 0.55`\n",
    "\n",
    "https://www.codewars.com/kata/585d7d5adb20cf33cb000235"
   ]
  },
  {
   "cell_type": "code",
   "execution_count": null,
   "id": "75300e72",
   "metadata": {},
   "outputs": [],
   "source": [
    "def find_uniq(arr):\n",
    "    for i, n in enumerate(arr[2:],start=2):\n",
    "        if n == arr[i-1] and n == arr[i-2]:\n",
    "            continue\n",
    "        elif n != arr[i-1]:\n",
    "            if n == arr[i-2]:\n",
    "                return arr[i-1]\n",
    "            elif arr[i-1] == arr[-2]:\n",
    "                return n\n",
    "        elif n != arr[i-2]:\n",
    "            if n == arr[i-1]:\n",
    "                return arr[i-2]\n",
    "            else:\n",
    "                return n\n",
    "        else:\n",
    "            if n == arr[i+1]:\n",
    "                return arr[i-1]\n",
    "            else:\n",
    "                return n"
   ]
  },
  {
   "cell_type": "markdown",
   "id": "f2429daf",
   "metadata": {},
   "source": [
    "# \"Your order, please\" 6 kyu\n",
    "\n",
    "Your task is to sort a given string. Each word in the string will contain a single number. This number is the position the word should have in the result.\n",
    "\n",
    "Note: Numbers can be from 1 to 9. So 1 will be the first word (not 0).\n",
    "\n",
    "If the input string is empty, return an empty string. The words in the input String will only contain valid consecutive numbers.\n",
    "\n",
    "Examples\n",
    "\n",
    "`\"is2 Thi1s T4est 3a\"`  -->  `\"Thi1s is2 3a T4est\"`\n",
    "\n",
    "`\"4of Fo1r pe6ople g3ood th5e the2\"`  -->  `\"Fo1r the2 g3ood 4of th5e pe6ople\"`\n",
    "\n",
    "https://www.codewars.com/kata/55c45be3b2079eccff00010f"
   ]
  },
  {
   "cell_type": "code",
   "execution_count": null,
   "id": "c7f3f6a6",
   "metadata": {},
   "outputs": [],
   "source": []
  },
  {
   "cell_type": "markdown",
   "id": "83fc891f",
   "metadata": {},
   "source": [
    "# \"Keep the Order\" 7 kyu\n",
    "\n",
    "Your job here is to write a function (`keepOrder` in JS/CoffeeScript, `keep_order` in Ruby/Crystal/Python, keeporder in Julia), which takes a sorted array ary and a value val, and returns the lowest index where you could insert val to maintain the sorted-ness of the array. The input array will always be sorted in ascending order. It may contain duplicates.\n",
    "\n",
    "Do not modify the input.\n",
    "\n",
    "https://www.codewars.com/kata/582aafca2d44a4a4560000e7"
   ]
  },
  {
   "cell_type": "code",
   "execution_count": null,
   "id": "dbac2f64",
   "metadata": {},
   "outputs": [],
   "source": [
    "def keep_order(ary, val):\n",
    "    if not ary:\n",
    "        return 0\n",
    "    if max(ary) < val:\n",
    "        return len(ary)\n",
    "    for i, v in enumerate(ary):\n",
    "        if val <= v:\n",
    "            return i"
   ]
  },
  {
   "cell_type": "markdown",
   "id": "7bb63e14",
   "metadata": {},
   "source": [
    "# \"Simple Pig Latin\" 5 kyu\n",
    "\n",
    "Move the first letter of each word to the end of it, then add \"ay\" to the end of the word. Leave punctuation marks untouched.\n",
    "\n",
    "Examples:\n",
    "\n",
    "`pig_it('Pig latin is cool')` => `igPay atinlay siay oolcay`\n",
    "\n",
    "`pig_it('Hello world !')` => `# elloHay orldway !`\n",
    "\n",
    "https://www.codewars.com/kata/520b9d2ad5c005041100000f"
   ]
  },
  {
   "cell_type": "code",
   "execution_count": null,
   "id": "b4be5599",
   "metadata": {},
   "outputs": [],
   "source": [
    "def pig_it(text):\n",
    "    text_split = text.split()\n",
    "    my_string = \"\"\n",
    "    for i in text_split:\n",
    "        if i.isalpha():\n",
    "            my_string += i[1:] + i[0] + 'ay '\n",
    "        else:\n",
    "            my_string += i\n",
    "    return my_string.rstrip()"
   ]
  }
 ],
 "metadata": {
  "kernelspec": {
   "display_name": "Python 3 (ipykernel)",
   "language": "python",
   "name": "python3"
  },
  "language_info": {
   "codemirror_mode": {
    "name": "ipython",
    "version": 3
   },
   "file_extension": ".py",
   "mimetype": "text/x-python",
   "name": "python",
   "nbconvert_exporter": "python",
   "pygments_lexer": "ipython3",
   "version": "3.9.13"
  }
 },
 "nbformat": 4,
 "nbformat_minor": 5
}
