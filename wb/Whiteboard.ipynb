{
 "cells": [
  {
   "cell_type": "markdown",
   "id": "4b88a973",
   "metadata": {},
   "source": [
    "# Whiteboard\n",
    "\n",
    "### April 24, 2023"
   ]
  },
  {
   "cell_type": "markdown",
   "id": "1b105f2f",
   "metadata": {},
   "source": [
    "##### Instructions:\n",
    "    \n",
    "# Using the PokeAPI create a function that takes in two Pokemon and prints out who would win in a fight.\n",
    "# The battle winner is decided by who has the largest attack power.\n",
    "# If they have equal attack powers the function will print out , ‘It’s a tie.’\n",
    "# If one or both of the inputs aren’t pokemon in the PokeAPI tell the user to try something else.\n",
    "#Example:\n",
    "# Input:  ‘Mew’, ‘Ditto’\n",
    "# Output: In a battle between Mew and Ditto, the winner is Mew.\n",
    "\n",
    "# Bonus : Have the function take in two lists of 5 pokemon each. And determine the winner between the two\n",
    "# teams based on combined attack power."
   ]
  },
  {
   "cell_type": "markdown",
   "id": "e16f0372",
   "metadata": {},
   "source": [
    "# Pseudocode"
   ]
  },
  {
   "cell_type": "code",
   "execution_count": null,
   "id": "0e3f707f",
   "metadata": {},
   "outputs": [],
   "source": [
    "# input 2 pokemon\n",
    "# pull data from api\n",
    "    # if data[stats][stat][name] == attack then return data[stats][base_stat]\n",
    "# if pokemon1.base_stat > pokemon2.base_stat = pokemon1 wins\n",
    "# elif pokemon1.base_stat < pokemon2.base_stat = pokemon2 wins\n",
    "# elif pokemon1.base_stat == pokemon2.base_stat = it's a tie\n",
    "# else (if response is not 200) then 'try something else'\n",
    "\n",
    "# BONUS\n",
    "\n",
    "# input will be five pokemon each as a list\n",
    "# call the api to return the data attack power of every pokemon in the list\n",
    "# use sum list method to add all attack power\n",
    "# do comparison"
   ]
  },
  {
   "cell_type": "code",
   "execution_count": 23,
   "id": "7ca7ea4d",
   "metadata": {},
   "outputs": [
    {
     "data": {
      "text/plain": [
       "\"It's a tie between the two parties!\""
      ]
     },
     "execution_count": 23,
     "metadata": {},
     "output_type": "execute_result"
    }
   ],
   "source": [
    "import requests\n",
    "\n",
    "def poke_api_call(poke_name):\n",
    "    response = requests.get(f\"https://pokeapi.co/api/v2/pokemon/{poke_name}\")\n",
    "    if response.status_code == 200:\n",
    "        data = response.json()\n",
    "         # print(f\"Success. 'data' for {poke_name} ready\")\n",
    "        pokemon_dict = {key: data[key][1] for key in ['stats']}\n",
    "        return [poke_name, pokemon_dict['stats']['base_stat']]\n",
    "    else:\n",
    "        print(f\"Error: Status Code {response.status_code}\")\n",
    "        \n",
    "def pokemon_battle(poke1, poke2):\n",
    "    return_string = \"\"\n",
    "    if poke1[1] > poke2[1]:\n",
    "        return_string = f\"{poke1[0].title()} wins the battle against {poke2[0].title()}!\"\n",
    "    elif poke1[1] < poke2[1]:\n",
    "        return_string = f\"{poke2[0].title()} wins the battle against {poke1[0].title()}!\"\n",
    "    elif poke1[1] == poke2[1]:\n",
    "        return_string = f\"It's a tie between {poke2[0].title()} and {poke1[0].title()}!\"\n",
    "    return return_string\n",
    "\n",
    "def pokemon_gym_battle(pokelist1, pokelist2):\n",
    "    return_string = \"\"\n",
    "    new_list1 = []\n",
    "    new_sum1 = 0\n",
    "    new_list2 = []\n",
    "    new_sum2 = 0\n",
    "    for pokemon in pokelist1:\n",
    "        api_return = poke_api_call(pokemon)\n",
    "        pname = api_return[0]\n",
    "        pattack = api_return[1]\n",
    "        new_sum1 += api_return[1]\n",
    "        new_list1.append({pname: pattack})\n",
    "    new_list1.append(sum([]))\n",
    "    for pokemon in pokelist2:\n",
    "        api_return = poke_api_call(pokemon)\n",
    "        pname = api_return[0]\n",
    "        pattack = api_return[1]\n",
    "        new_sum2 += api_return[1]\n",
    "        new_list2.append({pname: pattack})\n",
    "    \n",
    "    if new_sum1 > new_sum2:\n",
    "        return_string = f\"Party 1 wins the battle!\"\n",
    "    elif new_sum1 < new_sum2:\n",
    "        return_string = f\"Party 2 wins the battle!\"\n",
    "    elif new_sum1 == new_sum2:\n",
    "        return_string = f\"It's a tie between the two parties!\"\n",
    "    return return_string\n",
    "    \n",
    "# One Pokemon Each! Let the battle BEGIN!\n",
    "print(pokemon_battle(poke_api_call('mew'), poke_api_call('mew')))\n",
    "print(pokemon_battle(poke_api_call('pikachu'), poke_api_call('mew')))\n",
    "\n",
    "# Five Pokemon Each! Let the battle BEGIN!\n",
    "poke_list1 = ['moltres', 'zapdos', 'articuno', 'ho-oh', 'lugia']\n",
    "poke_list2 = ['regigigas', 'regice', 'regirock', 'registeel', 'aegislash']\n",
    "\n",
    "pokemon_gym_battle(poke_list1, poke_list2)"
   ]
  },
  {
   "cell_type": "code",
   "execution_count": 24,
   "id": "1885dfa8",
   "metadata": {},
   "outputs": [
    {
     "name": "stdout",
     "output_type": "stream",
     "text": [
      "In a battle between Charizard and Ditto, the winner is Charizard.\n"
     ]
    }
   ],
   "source": [
    "import requests\n",
    "def pokemon_battle(pokemon1, pokemon2):\n",
    "    # Make API calls to retrieve data for the two Pokemon\n",
    "    url1 = f\"https://pokeapi.co/api/v2/pokemon/{pokemon1.lower()}\"\n",
    "    url2 = f\"https://pokeapi.co/api/v2/pokemon/{pokemon2.lower()}\"\n",
    "    response1 = requests.get(url1)\n",
    "    response2 = requests.get(url2)\n",
    "    \n",
    "    # Parse the JSON response to extract the attack power of each Pokemon\n",
    "    data1 = response1.json()\n",
    "    data2 = response2.json()\n",
    "    attack1 = data1[\"stats\"][0][\"base_stat\"]\n",
    "    attack2 = data2[\"stats\"][0][\"base_stat\"]\n",
    "    \n",
    "    # Compare the attack power of the two Pokemon\n",
    "    if attack1 > attack2:\n",
    "        winner = pokemon1.capitalize()\n",
    "    elif attack2 > attack1:\n",
    "        winner = pokemon2.capitalize()\n",
    "    else:\n",
    "        winner = \"It's a tie!\"\n",
    "    \n",
    "    # Display the winner of the battle\n",
    "    print(f\"In a battle between {pokemon1.capitalize()} and {pokemon2.capitalize()}, the winner is {winner}.\")\n",
    "pokemon_battle('charizard','ditto')"
   ]
  },
  {
   "cell_type": "code",
   "execution_count": 25,
   "id": "259180f5",
   "metadata": {},
   "outputs": [
    {
     "name": "stdout",
     "output_type": "stream",
     "text": [
      "In a battle between Team 1 (Pikachu, charizard, squirtle, bulbasaur, eevee) and Team 2 (Mewtwo, blastoise, charmander, jigglypuff, vaporeon), the winner is Team 2.\n"
     ]
    }
   ],
   "source": [
    "def pokemon_team_battle(team1, team2):\n",
    "    # Define a function to retrieve the attack power of a Pokemon\n",
    "    def get_attack_power(pokemon):\n",
    "        url = f\"https://pokeapi.co/api/v2/pokemon/{pokemon.lower()}\"\n",
    "        response = requests.get(url)\n",
    "        data = response.json()\n",
    "        attack = data[\"stats\"][0][\"base_stat\"]\n",
    "        return attack\n",
    "    # Calculate the total attack power of each team\n",
    "    team1_attack_power = sum([get_attack_power(pokemon) for pokemon in team1])\n",
    "    team2_attack_power = sum([get_attack_power(pokemon) for pokemon in team2])\n",
    "    # Compare the total attack power of the two teams\n",
    "    if team1_attack_power > team2_attack_power:\n",
    "        winner = \"Team 1\"\n",
    "    elif team2_attack_power > team1_attack_power:\n",
    "        winner = \"Team 2\"\n",
    "    else:\n",
    "        winner = \"It's a tie!\"\n",
    "    # Display the winner of the battle\n",
    "    print(f\"In a battle between Team 1 ({', '.join(team1).capitalize()}) and Team 2 ({', '.join(team2).capitalize()}), the winner is {winner}.\")\n",
    "# Example usage\n",
    "team1 = [\"pikachu\", \"charizard\", \"squirtle\", \"bulbasaur\", \"eevee\"]\n",
    "team2 = [\"mewtwo\", \"blastoise\", \"charmander\", \"jigglypuff\", \"vaporeon\"]\n",
    "pokemon_team_battle(team1, team2)"
   ]
  }
 ],
 "metadata": {
  "kernelspec": {
   "display_name": "Python 3 (ipykernel)",
   "language": "python",
   "name": "python3"
  },
  "language_info": {
   "codemirror_mode": {
    "name": "ipython",
    "version": 3
   },
   "file_extension": ".py",
   "mimetype": "text/x-python",
   "name": "python",
   "nbconvert_exporter": "python",
   "pygments_lexer": "ipython3",
   "version": "3.9.13"
  }
 },
 "nbformat": 4,
 "nbformat_minor": 5
}
