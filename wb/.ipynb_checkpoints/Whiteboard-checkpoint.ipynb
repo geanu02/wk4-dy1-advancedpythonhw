{
 "cells": [
  {
   "cell_type": "markdown",
   "id": "b86e03f9",
   "metadata": {},
   "source": [
    "# Whiteboard\n",
    "\n",
    "### April 24, 2023"
   ]
  },
  {
   "cell_type": "markdown",
   "id": "d8ebc711",
   "metadata": {},
   "source": [
    "Instructions:\n",
    "    \n",
    "    "
   ]
  },
  {
   "cell_type": "code",
   "execution_count": null,
   "id": "ec22e1d6",
   "metadata": {},
   "outputs": [],
   "source": []
  }
 ],
 "metadata": {
  "kernelspec": {
   "display_name": "Python 3 (ipykernel)",
   "language": "python",
   "name": "python3"
  },
  "language_info": {
   "codemirror_mode": {
    "name": "ipython",
    "version": 3
   },
   "file_extension": ".py",
   "mimetype": "text/x-python",
   "name": "python",
   "nbconvert_exporter": "python",
   "pygments_lexer": "ipython3",
   "version": "3.9.13"
  }
 },
 "nbformat": 4,
 "nbformat_minor": 5
}
